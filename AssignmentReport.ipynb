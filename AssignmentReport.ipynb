{
 "cells": [
  {
   "cell_type": "markdown",
   "metadata": {},
   "source": [
    "<center>\n",
    "    <br><br><br>\n",
    "    <b>Department of Information and Communication Technology</b><br>\n",
    "    <b>Islamic University, Kushtia-7003</b>\n",
    "    <br><br><br>\n",
    "    <br><br><br>\n",
    "    <b>Assignment Report on Cryptography</b>\n",
    "    <br><br><br>\n",
    "    Submitted by\n",
    "    <br>\n",
    "    Mobarak Hosen \n",
    "    <br><br>\n",
    "    Submitted to\n",
    "    <br>\n",
    "    Bikash Chandra Singh\n",
    "    <br>\n",
    "    Associate Professor, Dept. of ICT\n",
    "    <br>\n",
    "    <br>\n",
    "</center>\n",
    "<br><br><br><br>"
   ]
  },
  {
   "cell_type": "markdown",
   "metadata": {},
   "source": [
    "<b>List of Experiment</b>\n",
    "<ol>\n",
    "    <li><a href=\"#1\">Implementation of Reverse Cipher Algorithm</a></li>\n",
    "    <li><a href=\"#2\">Implementation of Caesar Cipher Algorithm</a></li>\n",
    "    <li><a href=\"#3\">Cryptanalysis of Caesar Cipher with brute force attack</a></li>\n",
    "    <li><a href=\"#4\">Transposition Cipher Program</a></li>\n",
    "</ol>"
   ]
  },
  {
   "cell_type": "markdown",
   "metadata": {
    "pycharm": {
     "name": "#%% md\n"
    }
   },
   "source": [
    "### <p id=\"1\"><i>Reverse Cipher Algorithm</i></p>\n",
    "\n",
    "<b>Reverse Cipher</b> algorithm uses a pattern of reversing the string of plain text to get the cipher text.\n",
    "In this algoritm,the process of encryption and decryption are same. That means to decrypt a cipher text user needs to reverse the string simply to get the plain text.\n",
    "\n",
    "Plain Text: \"Hello Bangladesh!\"\n",
    "\n",
    "Cipher Text: \"!hsedalgnaB olleH\"\n",
    "\n",
    "A python program is given below:"
   ]
  },
  {
   "cell_type": "code",
   "execution_count": 1,
   "metadata": {
    "pycharm": {
     "name": "#%%\n"
    }
   },
   "outputs": [
    {
     "name": "stdout",
     "output_type": "stream",
     "text": [
      "Enter a value to choose an option: \n",
      "1. Encryption\n",
      "2. Decryption\n",
      "3. Exit\n",
      "1\n",
      "Enter a message: Hello Bangladesh!\n",
      "Normal Message:  Hello Bangladesh!\n",
      "Cipher Text:  !hsedalgnaB olleH\n",
      "Enter a value to choose an option: \n",
      "1. Encryption\n",
      "2. Decryption\n",
      "3. Exit\n",
      "2\n",
      "Enter Cipher Text: !hsedalgnaB olleH\n",
      "Cipher Text:  !hsedalgnaB olleH\n",
      "Normal Message:  Hello Bangladesh!\n",
      "Enter a value to choose an option: \n",
      "1. Encryption\n",
      "2. Decryption\n",
      "3. Exit\n",
      "3\n"
     ]
    }
   ],
   "source": [
    "# File     : CaesarCipher.py\n",
    "# Project  : PracticalCryptography\n",
    "# Product  : PyCharm\n",
    "# Created  : 8:12 PM,02/03/20\n",
    "# Author   : Mobarak Hosen Shakil\n",
    "# E-mail   : mh.ice.iu@gmail.com\n",
    "# Blog     : http://iuconvergent.wordpress.com\n",
    "# Information & Communication Technology\n",
    "# Islamic University, Kushtia-7003, Bangladesh\n",
    "\n",
    "\n",
    "def do_reverse(s):\n",
    "    return \"\".join(reversed(s))   # reversed() is a python built-in function to reverse a string\n",
    "\n",
    "\n",
    "def do_encryption(msg):\n",
    "    print(\"Cipher Text: \", do_reverse(msg))\n",
    "\n",
    "\n",
    "def do_decryption(msg):\n",
    "    print(\"Normal Message: \", do_reverse(msg))\n",
    "\n",
    "\n",
    "def main():\n",
    "    while 1:\n",
    "\n",
    "        print(\"Enter a value to choose an option: \\n1. Encryption\\n2. Decryption\\n3. Exit\")\n",
    "        op_code = int(input())\n",
    "\n",
    "        if op_code == 1:\n",
    "            NormalMsg = str(input(\"Enter a message: \"))\n",
    "            print(\"Normal Message: \", NormalMsg)\n",
    "            do_encryption(NormalMsg)\n",
    "\n",
    "        elif op_code == 2:\n",
    "            CipherTxt = str(input(\"Enter Cipher Text: \"))\n",
    "            print(\"Cipher Text: \", CipherTxt)\n",
    "            do_decryption(CipherTxt)\n",
    "\n",
    "        else:\n",
    "            break\n",
    "\n",
    "\n",
    "main()\n"
   ]
  },
  {
   "cell_type": "markdown",
   "metadata": {
    "pycharm": {
     "name": "#%%\n"
    }
   },
   "source": [
    "This algorihtm is very weak in cryptography. Someone can easily break the cipher text to get the plain text."
   ]
  },
  {
   "cell_type": "markdown",
   "metadata": {
    "pycharm": {
     "name": "#%%\n"
    }
   },
   "source": [
    "### <p id=\"2\">Caesar Cipher Algorithm</p> \n",
    "<b>Caesar Cipher</b> is a type of substitution cipher. In this algorithm, each letter is replaced by another letter with a fixed shift key. Julias Caesar used a key of 3 (i,e; a will be replaced with d) for his communications. It is an easy and simple encryption method.\n",
    "\n",
    "Plain Text: \"ABCD\" with key = 3\n",
    "\n",
    "Cipher Text: \"DEFG\" (each letter shifted 3 letter right)"
   ]
  },
  {
   "cell_type": "code",
   "execution_count": 2,
   "metadata": {
    "pycharm": {
     "name": "#%%\n"
    }
   },
   "outputs": [
    {
     "name": "stdout",
     "output_type": "stream",
     "text": [
      "Enter a value to perform an operation:\n",
      "1. Encryption\n",
      "2. Decryption\n",
      "3. Exit\n",
      "1\n",
      "Enter message to encrypt: Hello Bangladesh!\n",
      "Enter a key between (1-26): 4\n",
      "Plain Text:  Hello Bangladesh!\n",
      "Cipher Text:  Lipps Ferkpehiwl!\n",
      "Enter a value to perform an operation:\n",
      "1. Encryption\n",
      "2. Decryption\n",
      "3. Exit\n",
      "2\n",
      "Enter Encrypted message: Lipps Ferkpehiwl!\n",
      "Enter valid key: 4\n",
      "Cipher Text:  Lipps Ferkpehiwl!\n",
      "Plain Text:  Hello Bangladesh!\n",
      "Enter a value to perform an operation:\n",
      "1. Encryption\n",
      "2. Decryption\n",
      "3. Exit\n",
      "3\n"
     ]
    }
   ],
   "source": [
    "# File     : CaesarCipher.py\n",
    "# Project  : PracticalCryptography\n",
    "# Product  : PyCharm\n",
    "# Created  : 8:12 PM,02/03/20\n",
    "# Author   : Mobarak Hosen Shakil\n",
    "# E-mail   : mh.ice.iu@gmail.com\n",
    "# Blog     : http://iuconvergent.wordpress.com\n",
    "# Information & Communication Technology\n",
    "# Islamic University, Kushtia-7003, Bangladesh\n",
    "\n",
    "\n",
    "def do_encryption(msg, key):\n",
    "    enc_text = \"\"\n",
    "\n",
    "    for ch in msg:\n",
    "        if ch.isupper():\n",
    "            enc_text += chr((ord(ch) - 65 + key) % 26 + 65)   # Added key with each letter of plain text\n",
    "        elif ch.islower():\n",
    "            enc_text += chr((ord(ch) - 97 + key) % 26 + 97)\n",
    "        else:\n",
    "            enc_text += ch\n",
    "\n",
    "    return enc_text\n",
    "\n",
    "\n",
    "def do_decryption(msg, key):\n",
    "    enc_text = \"\"\n",
    "\n",
    "    for ch in msg:\n",
    "        if ch.isupper():\n",
    "            enc_text += chr((ord(ch) - key - 65) % 26 + 65)  # Subtracted key with each letter of cipher text\n",
    "        elif ch.islower():\n",
    "            enc_text += chr((ord(ch) - key - 97) % 26 + 97)\n",
    "        else:\n",
    "            enc_text += ch\n",
    "\n",
    "    return enc_text\n",
    "\n",
    "\n",
    "def main():\n",
    "    while 1:\n",
    "        op_code = int(input(\"Enter a value to perform an operation:\\n1. Encryption\\n2. Decryption\\n3. Exit\\n\"))\n",
    "\n",
    "        if op_code == 1:\n",
    "            Message, key = str(input(\"Enter message to encrypt: \")), int(input(\"Enter a key between (1-26): \"))\n",
    "            print(\"Plain Text: \", Message)\n",
    "            print(\"Cipher Text: \", do_encryption(Message, key))\n",
    "        elif op_code == 2:\n",
    "            Cipher_Text, key = str(input(\"Enter Encrypted message: \")), int(input(\"Enter valid key: \"))\n",
    "            print(\"Cipher Text: \", Cipher_Text)\n",
    "            print(\"Plain Text: \", do_decryption(Cipher_Text, key))\n",
    "        else:\n",
    "            break\n",
    "\n",
    "\n",
    "main()\n"
   ]
  },
  {
   "cell_type": "markdown",
   "metadata": {
    "pycharm": {
     "name": "#%%\n"
    }
   },
   "source": [
    "In this algorithm, key range is (1-25). So, someone can break the cipher text using brute force attack with maximum of 25 posibility.   "
   ]
  },
  {
   "cell_type": "markdown",
   "metadata": {
    "pycharm": {
     "name": "#%%\n"
    }
   },
   "source": [
    "### <p id=\"3\">Brute Force attack in Caesar Cipher</p>\n",
    "\n",
    "<b>Brute Force</b> attack simply is a guessing technique, where we need to check every posibility. \n",
    "Since, in Caesar Cipher the key range is 1-25. So, at most 25 posibility we can find the plain text. \n",
    "\n",
    "A simple program of Brute Force attack in Caesar cipher Text is given below:"
   ]
  },
  {
   "cell_type": "code",
   "execution_count": 4,
   "metadata": {
    "pycharm": {
     "name": "#%%\n"
    }
   },
   "outputs": [
    {
     "name": "stdout",
     "output_type": "stream",
     "text": [
      "Hacking Key #0: GIEWIV GMTLIV HIQS\n",
      "Hacking Key #1: FHDVHU FLSKHU GHPR\n",
      "Hacking Key #2: EGCUGT EKRJGT FGOQ\n",
      "Hacking Key #3: DFBTFS DJQIFS EFNP\n",
      "Hacking Key #4: CEASER CIPHER DEMO\n",
      "Hacking Key #5: BDZRDQ BHOGDQ CDLN\n",
      "Hacking Key #6: ACYQCP AGNFCP BCKM\n",
      "Hacking Key #7: ZBXPBO ZFMEBO ABJL\n",
      "Hacking Key #8: YAWOAN YELDAN ZAIK\n",
      "Hacking Key #9: XZVNZM XDKCZM YZHJ\n",
      "Hacking Key #10: WYUMYL WCJBYL XYGI\n",
      "Hacking Key #11: VXTLXK VBIAXK WXFH\n",
      "Hacking Key #12: UWSKWJ UAHZWJ VWEG\n",
      "Hacking Key #13: TVRJVI TZGYVI UVDF\n",
      "Hacking Key #14: SUQIUH SYFXUH TUCE\n",
      "Hacking Key #15: RTPHTG RXEWTG STBD\n",
      "Hacking Key #16: QSOGSF QWDVSF RSAC\n",
      "Hacking Key #17: PRNFRE PVCURE QRZB\n",
      "Hacking Key #18: OQMEQD OUBTQD PQYA\n",
      "Hacking Key #19: NPLDPC NTASPC OPXZ\n",
      "Hacking Key #20: MOKCOB MSZROB NOWY\n",
      "Hacking Key #21: LNJBNA LRYQNA MNVX\n",
      "Hacking Key #22: KMIAMZ KQXPMZ LMUW\n",
      "Hacking Key #23: JLHZLY JPWOLY KLTV\n",
      "Hacking Key #24: IKGYKX IOVNKX JKSU\n",
      "Hacking Key #25: HJFXJW HNUMJW IJRT\n"
     ]
    }
   ],
   "source": [
    "# File     : CaesarCipherBruteForceAttack.py\n",
    "# Project  : PracticalCryptography\n",
    "# Product  : PyCharm\n",
    "# Created  : 9:56 PM,02/03/20\n",
    "# Author   : Mobarak Hosen Shakil\n",
    "# E-mail   : mh.ice.iu@gmail.com\n",
    "# Blog     : http://iuconvergent.wordpress.com\n",
    "# Information & Communication Technology\n",
    "# Islamic University, Kushtia-7003, Bangladesh\n",
    "\n",
    "\n",
    "def do_brute_force_attack(msg):\n",
    "    for i in range(0, 26):\n",
    "        encs = \"\"\n",
    "        for ch in msg:\n",
    "            if ch.isupper():\n",
    "                encs += chr((ord(ch) - 65 - i) % 26 + 65)\n",
    "            elif ch.islower():\n",
    "                encs += chr((ord(ch) - 97 - i) % 26 + 97)\n",
    "            else:\n",
    "                encs += ch\n",
    "        print(\"Hacking Key #\" + str(i) + \": \" + encs)    # Finding each posibility\n",
    "\n",
    "\n",
    "def main():\n",
    "    do_brute_force_attack(\"GIEWIV GMTLIV HIQS\")\n",
    "\n",
    "\n",
    "main()\n"
   ]
  },
  {
   "cell_type": "markdown",
   "metadata": {
    "pycharm": {
     "name": "#%%\n"
    }
   },
   "source": [
    "From each posibility, \"CEASER CIPHER DEMO\" plain text make a sense with key=4."
   ]
  },
  {
   "cell_type": "markdown",
   "metadata": {
    "pycharm": {
     "name": "#%%\n"
    }
   },
   "source": [
    "### <p id=\"4\">Transposition Cipher</p>\n",
    "\n",
    "<b>Transposition Cipher</b> does not substitute one symbol with another, but changes the location of symbols.\n",
    "It reorders the letters of plain text to get the cipher text. Rali-fence, Columnar, keyed Columnar are example of Transposition Cipher.\n",
    "\n",
    "\n",
    "A python program on Rail-fence cipher is given below:\n"
   ]
  },
  {
   "cell_type": "code",
   "execution_count": 2,
   "metadata": {
    "pycharm": {
     "name": "#%%\n"
    }
   },
   "outputs": [
    {
     "name": "stdout",
     "output_type": "stream",
     "text": [
      "Please enter your message: Hello Bangladesh!\n",
      "Please enter a key: 3\n",
      "Cipher Text: Hond!el agaehlBls\n",
      "Plain Text:  Hello Bangladesh!\n"
     ]
    }
   ],
   "source": [
    "# File     : TranspositionCipher.py\n",
    "# Project  : PracticalCryptography\n",
    "# Product  : PyCharm\n",
    "# Created  : 10:44 PM,03/03/20\n",
    "# Author   : Mobarak Hosen Shakil\n",
    "# E-mail   : mh.ice.iu@gmail.com\n",
    "# Blog     : http://iuconvergent.wordpress.com\n",
    "# Information & Communication Technology\n",
    "# Islamic University, Kushtia-7003, Bangladesh\n",
    "\n",
    "\n",
    "def do_encryption(msg, key):\n",
    "\n",
    "    encs = \"\"\n",
    "    pointer_matrix = [['\\n' for i in range(len(msg))] for j in range(key)]\n",
    "    row = 0\n",
    "    isDown = True\n",
    "\n",
    "    for col in range(len(msg)):\n",
    "        if row == key-1:\n",
    "            isDown = False\n",
    "        if row == 0:\n",
    "            isDown = True\n",
    "        # print(row, col)\n",
    "        pointer_matrix[row][col] = msg[col]\n",
    "        if isDown:\n",
    "            row += 1\n",
    "        else:\n",
    "            row -= 1\n",
    "\n",
    "    for i in range(key):\n",
    "        # print(i, \": \")\n",
    "        for j in range(len(msg)):\n",
    "            if pointer_matrix[i][j] != '\\n':\n",
    "                encs += msg[j]\n",
    "\n",
    "    return encs\n",
    "\n",
    "\n",
    "def do_decryption(msg, key):\n",
    "    encs =\"\"\n",
    "    pointer_matrix = [['\\n' for i in range(len(msg))] for j in range(key)]\n",
    "    row = 0\n",
    "    isDown = True\n",
    "\n",
    "    for col in range(len(msg)):\n",
    "        if row == key-1:\n",
    "            isDown = False\n",
    "        if row == 0:\n",
    "            isDown = True\n",
    "\n",
    "        pointer_matrix[row][col] = '*'\n",
    "\n",
    "        if isDown:\n",
    "            row += 1\n",
    "        else:\n",
    "            row -= 1\n",
    "    idx = 0\n",
    "    for i in range(key):\n",
    "        for j in range(len(msg)):\n",
    "            if pointer_matrix[i][j] == '*' and idx < len(msg):\n",
    "                pointer_matrix[i][j] = msg[idx]\n",
    "                idx += 1\n",
    "    row = 0\n",
    "    isDown = True\n",
    "\n",
    "    for col in range(len(msg)):\n",
    "        if row == key - 1:\n",
    "            isDown = False\n",
    "        if row == 0:\n",
    "            isDown = True\n",
    "\n",
    "        if pointer_matrix[row][col] != '*':\n",
    "            encs += pointer_matrix[row][col]\n",
    "\n",
    "        if isDown:\n",
    "            row += 1\n",
    "        else:\n",
    "            row -= 1\n",
    "    return encs\n",
    "\n",
    "\n",
    "def main():\n",
    "\n",
    "    msg, key = str(input(\"Please enter your message: \")), int(input(\"Please enter a key: \"))\n",
    "\n",
    "    cipher_text = do_encryption(msg, key)\n",
    "    plain_text = do_decryption(cipher_text, key)\n",
    "    print(\"Cipher Text:\", cipher_text)\n",
    "    print(\"Plain Text: \", plain_text)\n",
    "\n",
    "\n",
    "main()\n"
   ]
  },
  {
   "cell_type": "code",
   "execution_count": null,
   "metadata": {},
   "outputs": [],
   "source": []
  }
 ],
 "metadata": {
  "kernelspec": {
   "display_name": "Python 3",
   "language": "python",
   "name": "python3"
  },
  "language_info": {
   "codemirror_mode": {
    "name": "ipython",
    "version": 3
   },
   "file_extension": ".py",
   "mimetype": "text/x-python",
   "name": "python",
   "nbconvert_exporter": "python",
   "pygments_lexer": "ipython3",
   "version": "3.6.9"
  },
  "pycharm": {
   "stem_cell": {
    "cell_type": "raw",
    "source": [
     "#%\n",
     "\n",
     "\n",
     "\n"
    ],
    "metadata": {
     "collapsed": false
    }
   }
  }
 },
 "nbformat": 4,
 "nbformat_minor": 1
}